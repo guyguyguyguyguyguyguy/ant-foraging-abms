{
 "cells": [
  {
   "cell_type": "code",
   "execution_count": null,
   "metadata": {
    "pycharm": {
     "name": "#%%\n"
    }
   },
   "outputs": [],
   "source": [
    "from dataclasses import dataclass, field\n",
    "import numpy as np\n",
    "from typing import List, Callable, Tuple, Optional\n",
    "import matplotlib.collections as m_collec\n",
    "import matplotlib\n",
    "import matplotlib.pyplot as plt\n",
    "import scipy.stats as stats\n",
    "import numpy.typing as npt\n",
    "from collections import defaultdict\n",
    "from mpl_toolkits.axes_grid1 import make_axes_locatable\n",
    "import matplotlib.patches as patches\n",
    "from typing import Set\n",
    "import copy\n",
    "import itertools\n",
    "\n"
   ]
  },
  {
   "cell_type": "code",
   "execution_count": null,
   "metadata": {},
   "outputs": [],
   "source": [
    "import matplotlib as mpl\n",
    "\n",
    "mpl.rcParams['figure.dpi'] = 500\n",
    "mpl.rcParams['savefig.dpi'] = 500\n",
    "mpl.rcParams['font.size'] = 14\n",
    "mpl.rcParams['legend.fontsize'] = 'medium'"
   ]
  },
  {
   "cell_type": "code",
   "execution_count": null,
   "metadata": {},
   "outputs": [],
   "source": [
    "plt.style.use('default')"
   ]
  },
  {
   "cell_type": "code",
   "execution_count": null,
   "metadata": {
    "pycharm": {
     "name": "#%%\n"
    }
   },
   "outputs": [],
   "source": [
    "# Constants\n",
    "STEP_SIZE = 0.2 #ant_lengths per second\n",
    "THRESHOLD = 0.45\n",
    "\n",
    "%store -r above_hist\n",
    "%store -r below_hist\n",
    "\n",
    "%store -r above_angs\n",
    "%store -r below_angs\n",
    "\n",
    "%store -r above_angs_before_int\n",
    "%store -r below_angs_before_int"
   ]
  },
  {
   "cell_type": "code",
   "execution_count": null,
   "metadata": {},
   "outputs": [],
   "source": [
    "above_angs_table = ['{:.2f}'.format(x) for x in above_angs]\n",
    "below_angs_table = ['{:.2f}'.format(x) for x in below_angs]"
   ]
  },
  {
   "cell_type": "code",
   "execution_count": null,
   "metadata": {},
   "outputs": [],
   "source": [
    "# ', '.join(below_angs_table)"
   ]
  },
  {
   "cell_type": "code",
   "execution_count": null,
   "metadata": {
    "pycharm": {
     "name": "#%%\n"
    }
   },
   "outputs": [],
   "source": [
    "ABOVE_ANGS = above_angs\n",
    "BELOW_ANGS = below_angs\n",
    "\n",
    "# ABOVE_ANGS_BEFORE_INT = above_angs_before_int\n",
    "# BELOW_ANGS_BEFORE_INT = below_angs_before_int"
   ]
  },
  {
   "cell_type": "code",
   "execution_count": null,
   "metadata": {
    "pycharm": {
     "name": "#%%\n"
    }
   },
   "outputs": [],
   "source": [
    "from scipy.stats import circmean\n",
    "\n",
    "print(np.rad2deg(circmean(np.deg2rad(above_angs))))\n",
    "np.rad2deg(circmean(np.deg2rad(below_angs)))"
   ]
  },
  {
   "cell_type": "code",
   "execution_count": null,
   "metadata": {
    "pycharm": {
     "name": "#%%\n"
    }
   },
   "outputs": [],
   "source": [
    "np.rad2deg(circmean(np.deg2rad(np.array([91, 272]))))"
   ]
  },
  {
   "cell_type": "code",
   "execution_count": null,
   "metadata": {
    "pycharm": {
     "name": "#%%\n"
    }
   },
   "outputs": [],
   "source": [
    "above_hist\n",
    "below_hist"
   ]
  },
  {
   "cell_type": "code",
   "execution_count": null,
   "metadata": {
    "pycharm": {
     "name": "#%%\n"
    }
   },
   "outputs": [],
   "source": [
    "len(above_hist[1])"
   ]
  },
  {
   "cell_type": "code",
   "execution_count": null,
   "metadata": {
    "pycharm": {
     "name": "#%%\n"
    }
   },
   "outputs": [],
   "source": [
    "angles_for_hist = np.arange(180/16,361,360/16)\n",
    "angles_for_hist"
   ]
  },
  {
   "cell_type": "code",
   "execution_count": null,
   "metadata": {
    "pycharm": {
     "name": "#%%\n"
    }
   },
   "outputs": [],
   "source": [
    "above_p = above_hist[0]/sum(above_hist[0])\n",
    "below_p= below_hist[0]/sum(below_hist[0])"
   ]
  },
  {
   "cell_type": "code",
   "execution_count": null,
   "metadata": {
    "pycharm": {
     "name": "#%%\n"
    }
   },
   "outputs": [],
   "source": [
    "def prop_given(c: float) -> float:\n",
    "    return np.random.exponential(0.15) * (1-c)"
   ]
  },
  {
   "cell_type": "code",
   "execution_count": null,
   "metadata": {
    "pycharm": {
     "name": "#%%\n"
    }
   },
   "outputs": [],
   "source": [
    "y = np.zeros(10000)\n",
    "for i in range(10000):\n",
    "    y[i] = np.random.exponential(0.15)\n",
    "    \n",
    "x = np.linspace(0, 1, 50)\n",
    "ys = np.digitize(y, x)\n",
    "\n",
    "counts = np.unique(ys, return_counts=True)\n",
    "xs = np.take(x, counts[0]-1)\n",
    "plt.plot(xs, counts[1])\n",
    "print(np.mean(y))"
   ]
  },
  {
   "cell_type": "code",
   "execution_count": null,
   "metadata": {},
   "outputs": [],
   "source": [
    "run_model1 = True"
   ]
  },
  {
   "cell_type": "code",
   "execution_count": null,
   "metadata": {
    "pycharm": {
     "name": "#%%\n"
    }
   },
   "outputs": [],
   "source": [
    "# @dataclass(slots=True)\n",
    "class Ant:\n",
    "    p: npt.NDArray[np.float32]\n",
    "    crop: float\n",
    "    \n",
    "    def move(self) -> None:\n",
    "        self.p += (np.random.uniform(-1, 1, 2) * STEP_SIZE)"
   ]
  },
  {
   "cell_type": "code",
   "execution_count": null,
   "metadata": {
    "pycharm": {
     "name": "#%%\n"
    }
   },
   "outputs": [],
   "source": [
    "def cart2pol(x, y):\n",
    "    r = np.sqrt(x**2 + y**2)\n",
    "    alpha = np.arctan2(y, x)\n",
    "    return np.array([r, alpha])\n",
    "\n",
    "def pol2cart(r, alpha):\n",
    "    x = r * np.cos(alpha)\n",
    "    y = r * np.sin(alpha)\n",
    "    return np.array([x, y])"
   ]
  },
  {
   "cell_type": "code",
   "execution_count": null,
   "metadata": {
    "pycharm": {
     "name": "#%%\n"
    }
   },
   "outputs": [],
   "source": [
    "def theta_to_beta(p: npt.NDArray[np.float32], theta: float) -> float:\n",
    "    _, alpha = np.rad2deg(cart2pol(*p))\n",
    "    beta = theta-180+alpha\n",
    "    return beta\n",
    "\n",
    "# def beta_to_theta(beta: float) -> float:\n",
    "#     theta = beta + 180 - alpha\n",
    "#     return theta"
   ]
  },
  {
   "cell_type": "code",
   "execution_count": null,
   "metadata": {
    "pycharm": {
     "name": "#%%\n"
    }
   },
   "outputs": [],
   "source": [
    "# @dataclass(slots=True)\n",
    "@dataclass\n",
    "class Forager:\n",
    "    p: npt.NDArray[np.float32]\n",
    "    bounds: npt.NDArray[np.float32]\n",
    "    reflection_noise_factor: float\n",
    "    crop: float = 0\n",
    "    angle: float = 0\n",
    "    exiting_crop: Optional[float] = None\n",
    "    step: int = 0\n",
    "    depth: int = 0\n",
    "    trip: int = 0\n",
    "    trip_length: int = 0\n",
    "    prev_trip_length: int = 0\n",
    "    interacted: bool = False\n",
    "    sample_type: str = 'hist'\n",
    "    sampling: Callable = None\n",
    "    trajectory: dict = field(default_factory=lambda: defaultdict(list))\n",
    "    interaction_pos_other_crop: dict = field(default_factory=dict)\n",
    "    exiting_step_crop: dict = field(default_factory=dict)\n",
    "\n",
    "        \n",
    "    def __post_init__(self) -> None:\n",
    "        if self.sample_type == 'hist':\n",
    "            self.sampling = self.sample_angle_from_hist\n",
    "        else:\n",
    "            self.sampling = self.sample_angle_from_data\n",
    "    \n",
    "    # distance away from origin used for forager to fill on food\n",
    "    def dist_from_origin(self, coor: npt.NDArray[np.float32]) -> bool:\n",
    "        dist = np.linalg.norm(np.array([self.bounds[0], self.bounds[0]]) - coor)\n",
    "\n",
    "        return bool(dist < 1)\n",
    "    \n",
    "    def move(self, col_state: float, other_ants) -> Optional[bool]:\n",
    "        def move_by_angle() -> npt.NDArray[np.float32]:\n",
    "            step = pol2cart(STEP_SIZE, np.deg2rad(self.angle))\n",
    "            return self.p + step\n",
    "        \n",
    "        if self.dist_from_origin(self.p):\n",
    "            self.exiting_step_crop[self.step] = [col_state, self.crop, self.depth]\n",
    "            self.angle = self.enter_nest(other_ants)\n",
    "            return True\n",
    "        \n",
    "        self.trip_length += 1\n",
    "\n",
    "        self.exiting_crop = None\n",
    "        potential_pos = move_by_angle()\n",
    "        out_of_bounds = self.check_new_pos(potential_pos)\n",
    "        \n",
    "        while out_of_bounds.any():\n",
    "            self.angle = self.reflection(np.argmin(out_of_bounds))\n",
    "            potential_pos = move_by_angle()\n",
    "            out_of_bounds = self.check_new_pos(potential_pos)\n",
    "        \n",
    "        self.p = potential_pos\n",
    "        self.trip_depth()\n",
    "        self.trajectory[self.trip].append([self.p, []])\n",
    "\n",
    "    def trip_depth(self) -> None:\n",
    "        current_depth = np.linalg.norm(self.p)\n",
    "        if current_depth > self.depth:\n",
    "            self.depth = current_depth\n",
    "\n",
    "    def enter_nest(self, other_ants) -> float:\n",
    "            self.crop = 1\n",
    "            self.trip += 1\n",
    "            self.prev_trip_length = self.trip_length\n",
    "            self.trip_length = 0\n",
    "            self.interacted = 0\n",
    "            self.p = np.ones(2)\n",
    "            self.depth = 0\n",
    "            self.exiting_crop = self.crop\n",
    "            self.trajectory[self.trip] = [[self.p, other_ants]]\n",
    "            beta = np.random.uniform(-90, 180)\n",
    "            return beta\n",
    "    \n",
    "    def check_new_pos(self, p: npt.NDArray[np.float32]) -> List[bool]:\n",
    "        return (p < self.bounds[0]) | (p > self.bounds[1])\n",
    "    \n",
    "    def reflection(self, boundary: int) -> float:\n",
    "        r_angle = np.deg2rad(self.angle)\n",
    "        c = np.cos(r_angle)\n",
    "        s = np.sin(r_angle)\n",
    "        coors = [s, c]\n",
    "        coors[boundary] *= -1 \n",
    "        return np.rad2deg(np.arctan2(*coors)) + ((np.random.random() - 0.5) * self.reflection_noise_factor)\n",
    "\n",
    "    def sample_angle_from_hist(self) -> float:\n",
    "        if self.crop <= THRESHOLD:\n",
    "            p = below_p\n",
    "        else:\n",
    "            p = above_p\n",
    "        theta = np.random.choice(angles, p=p)\n",
    "        return theta_to_beta(self.p, theta) \n",
    "    \n",
    "    def sample_angle_from_data(self) -> float:\n",
    "        if self.crop <= THRESHOLD:\n",
    "            theta = np.random.choice(BELOW_ANGS)\n",
    "        else:\n",
    "            theta = np.random.choice(ABOVE_ANGS)\n",
    "\n",
    "        return theta_to_beta(self.p, theta)\n",
    "\n",
    "    @staticmethod\n",
    "    def feed_duration_calc(given_amount: float) -> int:\n",
    "        # return int(60 * given_amount)\n",
    "        return 0\n",
    "\n",
    "    def interaction(self, other_crop: float) -> Tuple[float, int]:\n",
    "        self.interaction_pos_other_crop[self.step] = [self.p, other_crop]\n",
    "        \n",
    "        offered_amount = max(0, min(self.crop, prop_given(other_crop)))\n",
    "#         print(\"offered amount is {}\".format(offered_amount))\n",
    "        given_amount = min(offered_amount, 1 - other_crop)\n",
    "#         print(\"given_amoutn is {}\".format(given_amount))\n",
    "        self.crop -= given_amount\n",
    "        self.interacted = True\n",
    "        feed_duration = self.feed_duration_calc(given_amount)\n",
    "        return given_amount, feed_duration"
   ]
  },
  {
   "cell_type": "code",
   "execution_count": null,
   "metadata": {
    "pycharm": {
     "name": "#%%\n"
    }
   },
   "outputs": [],
   "source": [
    "p = np.array([1,-1])\n",
    "np.argmax((p < 0) | (p > 11))"
   ]
  },
  {
   "cell_type": "code",
   "execution_count": null,
   "metadata": {
    "pycharm": {
     "name": "#%%\n"
    }
   },
   "outputs": [],
   "source": [
    "# @dataclass(slots=True)\n",
    "# class ModelAntClass:\n",
    "#     bounds: npt.NDArray[np.float32]\n",
    "#     biases: npt.NDArray[np.float32]\n",
    "#     ants: list = field(default_factory=list)\n",
    "#     foragers: list = field(default_factory=list)\n",
    "    \n",
    "#     def inialise(self, no_ants: int, no_foragers: int) -> None:\n",
    "#         self.ants = [Ant(p, 0) for p in np.random.uniform(*self.bounds, size=(no_ants, 2))]\n",
    "#         self.foragers = [Forager(p, 1, self.biases) for p in np.zeros([no_foragers, 2])]\n",
    "    \n",
    "#     def step(self) -> None:\n",
    "#         pass"
   ]
  },
  {
   "cell_type": "code",
   "execution_count": null,
   "metadata": {
    "pycharm": {
     "name": "#%%\n"
    }
   },
   "outputs": [],
   "source": [
    "import csv\n",
    "\n",
    "# @dataclass(slots=True)\n",
    "@dataclass\n",
    "class ModelAntArray:\n",
    "    bounds: npt.NDArray[np.float32]\n",
    "    no_ants: int\n",
    "    sample_type: str\n",
    "    forager_data: object\n",
    "    interaction_data: object\n",
    "    visit_data: object\n",
    "    repeat: int = 1\n",
    "    tick: int = 0\n",
    "    waiting_duration: int = 0\n",
    "    radius: float = 0.2\n",
    "    minimum_interaction: float = 0.01\n",
    "    reflection_noise_factor: float = 0.1\n",
    "    ant_bounds: list = field(default_factory=list)\n",
    "    angles: dict = field(default_factory=dict)\n",
    "    ants: npt.NDArray = np.empty(0)\n",
    "    foragers: npt.NDArray = np.empty(0)\n",
    "    col_states: dict = field(default_factory=dict)\n",
    "    save_trajectories: bool = False\n",
    "\n",
    "    log: bool = False\n",
    "        \n",
    "    @property\n",
    "    def col_state(self) -> float:\n",
    "        return self.ants[:, 2].mean()\n",
    "        \n",
    "    def __post_init__(self) -> None:\n",
    "        self.ants = np.zeros((3, self.no_ants))\n",
    "        self.angles = {'above': [], 'below': []}\n",
    "        self.ant_bounds = [self.bounds[0], self.bounds[1]]\n",
    "\n",
    "    \n",
    "    def inialise(self, no_foragers: int = 1) -> None:\n",
    "        self.ants = np.array([np.array([*p, 0]) for p in np.random.uniform(*self.ant_bounds, size=(self.no_ants, 2))])\n",
    "        self.foragers = np.array([Forager(p, self.bounds,\n",
    "                                          sample_type=self.sample_type, \n",
    "                                          reflection_noise_factor=self.reflection_noise_factor) for p in np.zeros([no_foragers, 2])])\n",
    "    \n",
    "    def step(self) -> None:\n",
    "        self.tick += 1\n",
    "        if self.waiting_duration > 0:\n",
    "            self.waiting_duration -= 1\n",
    "            return\n",
    "        moves = np.hstack(((np.random.uniform(-1, 1, size=(self.no_ants, 2)) * (STEP_SIZE * 3)), np.zeros((self.no_ants, 1))))\n",
    "#         moves = np.c_[(np.random.uniform(-1, 1, size=(self.no_ants, 2)) * STEP_SIZE), np.zeros(self.no_ants)]\n",
    "#         moves = np.c_[np.ones([self.no_ants, 2]), np.zeros(self.no_ants)]      \n",
    "        self.ants += moves\n",
    "\n",
    "        # ugly but works, albeit a bit slow, for limiting non-foragers possible positions\n",
    "        self.ants[:,:-1] = self.ants[:,:-1].clip(self.ant_bounds[0] + self.radius/2, self.bounds[1] - self.radius/2)\n",
    "        in_entrance_mask  = np.argwhere(np.linalg.norm(np.array([self.bounds[0], self.bounds[0]]) - self.ants[:,:-1], axis=1) < 1)\n",
    "        self.ants[in_entrance_mask] -= moves[in_entrance_mask]\n",
    "        \n",
    "        f: Forager\n",
    "        for f in self.foragers: \n",
    "            other_ants =  copy.deepcopy(self.ants)\n",
    "            for_exit = f.move(self.col_state, other_ants)\n",
    "            f.step = self.tick\n",
    "            dists = np.linalg.norm(self.ants[:,:-1] - f.p, axis=1)\n",
    "            close_ant = np.argmin(dists)\n",
    "\n",
    "            if for_exit:\n",
    "                if self.log:\n",
    "                    self.visit_data.writerow([self.tick, self.col_state, 1-self.col_state, self.repeat, f.exiting_crop, f.prev_trip_length])\n",
    "#             print(dists)\n",
    "            if np.min(dists) < self.radius: # less than the radius for interaction\n",
    "                self.store_angs(f.angle, f.crop)\n",
    "                other_ant = self.ants[close_ant]\n",
    "#                 print(other_ant)\n",
    "                given_food, self.waiting_duration = f.interaction(other_ant[2])\n",
    "                self.ants[close_ant][2] += given_food\n",
    "#                 print(other_ant)\n",
    "                if given_food >= self.minimum_interaction:\n",
    "                    f.angle = f.sampling()\n",
    "#                 else:\n",
    "#                     print(f.crop, self.col_state)\n",
    "                if self.log:\n",
    "                    self.interaction_data.writerow([self.tick, self.col_state, 1-self.col_state, self.repeat, f.crop, other_ant[-1], given_food, f.p, f.trip])\n",
    "\n",
    "        self.col_states[self.tick] = self.col_state\n",
    "\n",
    "        if self.log:\n",
    "            forag = self.foragers[0] # type: Forager\n",
    "            self.forager_data.writerow([self.tick, self.col_state, 1-self.col_state, self.repeat, forag.crop, forag.trip, forag.p, forag.exiting_crop, forag.crop < THRESHOLD])\n",
    "\n",
    "\n",
    "    def store_angs(self, a:float, crop: float) -> None:\n",
    "        if crop <= THRESHOLD:\n",
    "            self.angles['below'].append(a)\n",
    "        else:\n",
    "            self.angles['above'].append(a)\n",
    "\n",
    "    def visualise(self, ax, color=True, plot=True) -> m_collec.PathCollection:\n",
    "        ax.set_xlim(-1, 12)\n",
    "        ax.set_ylim(-1, 12)\n",
    "        cmap = matplotlib.cm.get_cmap('viridis')\n",
    "#         print(cmap)\n",
    "        sc = ax.scatter(self.ants[:, 0], self.ants[:, 1], c=self.ants[:, 2], vmin=0, vmax=1)\n",
    "        if color:\n",
    "            plt.colorbar(sc)\n",
    "        for f in self.foragers:\n",
    "            ax.scatter(*f.p, c=np.array([cmap(f.crop)]).reshape(1, -1), s=90, marker='s', vmin=0, vmax=1)\n",
    "#             ax.scatter(*f.p, s=90, marker='s', vmin=0, vmax=1)\n",
    "        if plot:\n",
    "            plt.show()\n",
    "        return sc"
   ]
  },
  {
   "cell_type": "code",
   "execution_count": null,
   "metadata": {
    "pycharm": {
     "name": "#%%\n"
    }
   },
   "outputs": [],
   "source": [
    "def nest_state_plot(n_for: int = 1) -> None:\n",
    "    m = ModelAntArray([0, 11], 90, sample_type= 'all')\n",
    "    m.inialise(n_for)\n",
    "    interval = 800\n",
    "    fig, axes = plt.subplots(2, 5, figsize=(20, 10))\n",
    "    fig.subplots_adjust(left=0.1,\n",
    "                        bottom=0.1, \n",
    "                        right=0.92, \n",
    "                        top=0.9, \n",
    "                        wspace=0.4, \n",
    "                        hspace=0.4)\n",
    "\n",
    "    for n, ax in enumerate(axes.flatten()):\n",
    "\n",
    "    #     ax.set_title(f\"{colony_state=}\")\n",
    "        ax.set_title(f\"s: {interval * n}, cs: {round(m.col_state, 2)}\")\n",
    "        sc = m.visualise(ax, color=False, plot=False)\n",
    "        for _ in range(interval):\n",
    "            m.step()\n",
    "\n",
    "    cbar_ax = fig.add_axes([0.95, 0.15, 0.01, 0.7])\n",
    "    plt.colorbar(sc, cbar_ax)\n",
    "    plt.show()"
   ]
  },
  {
   "cell_type": "code",
   "execution_count": null,
   "metadata": {
    "pycharm": {
     "name": "#%%\n"
    }
   },
   "outputs": [],
   "source": [
    "# f = open(\"forager_data.csv\", 'w+') \n",
    "# i = open('interaction_data.csv', 'w+')\n",
    "# v = open('visit_data.csv', 'w+') \n",
    "# \n",
    "# f_writer = csv.writer(f)\n",
    "# i_writer = csv.writer(i)\n",
    "# v_writer = csv.writer(v)\n",
    "# \n",
    "# f_writer.writerow(['step', 'colony state', 'empty colony state', 'repeat', 'crop', 'trip', 'position', 'exiting crop', 'fall thresh'])\n",
    "# i_writer.writerow(['step', 'colony state', 'empty colony state', 'repeat', 'forager crop', 'nest ant crop', 'interaction volume', 'position', 'trip'])\n",
    "# v_writer.writerow(['step', 'colony state', 'empty colony state', 'repeat', 'exiting crop', 'trip length'])\n",
    "\n",
    "\n",
    "# m = ModelAntArray([0, 11], 89, sample_type= 'all', forager_data = None, interaction_data = i_writer, visit_data = v_writer, \n",
    "# log=True, radius=STEP_SIZE+0.1, minimum_interaction=0, save_trajectories=True)\n",
    "# m.inialise(1)"
   ]
  },
  {
   "cell_type": "code",
   "execution_count": null,
   "metadata": {
    "pycharm": {
     "name": "#%%\n"
    }
   },
   "outputs": [],
   "source": [
    "# if run_model1:\n",
    "#     for _ in range(60000):\n",
    "#         m.step()\n",
    "# run_model1 = True\n",
    "\n",
    "# f.close()\n",
    "# i.close()\n",
    "# v.close()"
   ]
  },
  {
   "cell_type": "code",
   "execution_count": null,
   "metadata": {},
   "outputs": [],
   "source": [
    "def twod_numpy_intersect(arr1: npt.NDArray, arr2: npt.NDArray) -> Set:\n",
    "    return set(map(tuple, arr1)).intersection(map(tuple, arr2))\n"
   ]
  },
  {
   "cell_type": "code",
   "execution_count": null,
   "metadata": {
    "pycharm": {
     "name": "#%%\n"
    }
   },
   "outputs": [],
   "source": [
    "def trajectory_plot(ax, m: ModelAntArray, trip_no: int) -> None:\n",
    "    forager = m.foragers[0]\n",
    "    trajectories = forager.trajectory\n",
    "    trip = trajectories.get(trip_no)\n",
    "    if not trip:\n",
    "        raise ValueError(\"Trip out of range\")\n",
    "    f_pos_x = [x[0][0] for x in trip]\n",
    "    f_pos_y= [x[0][1] for x in trip]\n",
    "\n",
    "    ax.plot(f_pos_x, f_pos_y, zorder=2, c='k', linewidth=2)\n",
    "    cmap = matplotlib.cm.get_cmap('viridis')\n",
    "\n",
    "    sc = ax.scatter(trip[0][1][:, 0], trip[0][1][:, 1], c=trip[0][1][:, 2], vmin=0, vmax=1, zorder=1, s=90)\n",
    "    rect = patches.Circle((0, 0), radius=1, linewidth=1, edgecolor='grey', facecolor='grey', fill=True, alpha=0.3)\n",
    "    ax.add_patch(rect)\n",
    "\n",
    "    u = np.diff(f_pos_x)\n",
    "    v = np.diff(f_pos_y)\n",
    "    norm = np.sqrt(u**2+v**2) \n",
    "    pos_x = f_pos_x[:-1] + u/2\n",
    "    pos_y = f_pos_y[:-1] + v/2\n",
    "    sli = 4\n",
    "    ax.quiver(pos_x[::sli], pos_y[::sli], (u/norm)[::sli], (v/norm)[::sli], \n",
    "              angles=\"xy\", zorder=5, pivot=\"mid\", width=0.006, scale=30)\n",
    "\n",
    "    col_state = np.sum(trip[0][1][:, 2]) / len(trip[0][1][:, 2])\n",
    "\n",
    "    ax.set_title(f\"Colony state: {round(col_state, 1)}\")\n",
    "    ax.title.set_fontsize(28)\n",
    "    ax.set_ylim(0, 12)\n",
    "    ax.set_xlim(0, 12)\n",
    "    ax.set_aspect(1)\n",
    "\n",
    "    divider = make_axes_locatable(ax)\n",
    "    cax = divider.append_axes(\"right\", size=\"5%\", pad=0.05)\n",
    "    plt.colorbar(sc, cax=cax)\n"
   ]
  },
  {
   "cell_type": "code",
   "execution_count": null,
   "metadata": {
    "pycharm": {
     "name": "#%%\n"
    }
   },
   "outputs": [],
   "source": [
    "# fig, ax = plt.subplots(1, 2, figsize=(16, 16))\n",
    "# trajectory_plot(ax[0], m, 12)\n",
    "# trajectory_plot(ax[1], m, 130)\n",
    "# plt.savefig(f\"2d_continuous_trip_traj.png\", format='png')"
   ]
  },
  {
   "cell_type": "code",
   "execution_count": null,
   "metadata": {
    "pycharm": {
     "name": "#%%\n"
    }
   },
   "outputs": [],
   "source": [
    "def col_state_plot(n_for: int = 1) -> None:\n",
    "    m = ModelAntArray([0, 11], 90, sample_type= 'all', \n",
    "                          radius=STEP_SIZE+0.1, minimum_interaction=0.02)    \n",
    "    m.inialise(n_for)\n",
    "    cs = np.zeros(50000)\n",
    "    for i in range(2):\n",
    "        for s in range(50000):\n",
    "            cs[s] += m.col_state\n",
    "            m.step()\n",
    "    \n",
    "    cs = cs / 10\n",
    "    plt.plot(cs)\n",
    "    plt.show()\n",
    "    return m"
   ]
  },
  {
   "cell_type": "code",
   "execution_count": null,
   "metadata": {
    "pycharm": {
     "name": "#%%\n"
    }
   },
   "outputs": [],
   "source": [
    "1/240"
   ]
  },
  {
   "cell_type": "markdown",
   "metadata": {
    "pycharm": {
     "name": "#%% md\n"
    }
   },
   "source": [
    "## Maybe get rid of interactions when forager crop is 0"
   ]
  },
  {
   "cell_type": "code",
   "execution_count": null,
   "metadata": {
    "pycharm": {
     "name": "#%%\n"
    }
   },
   "outputs": [],
   "source": [
    "(1/np.array([2, 2, 2, 200, 200])).mean()"
   ]
  },
  {
   "cell_type": "code",
   "execution_count": null,
   "metadata": {},
   "outputs": [],
   "source": [
    "run_model = True"
   ]
  },
  {
   "cell_type": "markdown",
   "metadata": {
    "pycharm": {
     "name": "#%% md\n"
    }
   },
   "source": [
    "# Interaction rate"
   ]
  },
  {
   "cell_type": "code",
   "execution_count": null,
   "metadata": {
    "pycharm": {
     "name": "#%%\n"
    }
   },
   "outputs": [],
   "source": [
    "def flatten(t):\n",
    "    return [item for sublist in t for item in sublist]"
   ]
  },
  {
   "cell_type": "code",
   "execution_count": null,
   "metadata": {
    "pycharm": {
     "name": "#%%\n"
    }
   },
   "outputs": [],
   "source": [
    "def interaction_rate(for_int_data, model_data, ax) -> None:\n",
    "    freqs = []\n",
    "    cols = []\n",
    "    for fd, md in zip(for_int_data, model_data):\n",
    "        colony_states = [md[x] for x in fd.keys()]\n",
    "        steps = np.fromiter(fd.keys(), dtype=int)\n",
    "        steps = np.insert(steps, 0, 0)\n",
    "        diff = np.diff(steps)\n",
    "        freq = 1/diff\n",
    "        \n",
    "        cols.append(colony_states)\n",
    "        freqs.append(freq)\n",
    "    \n",
    "    cols = np.array(list(itertools.chain.from_iterable(cols)))\n",
    "    freqs = np.array(list(itertools.chain.from_iterable(freqs)))\n",
    "    \n",
    "    binned_avg = stats.binned_statistic(cols, \n",
    "                                        freqs,\n",
    "                                        'mean', bins=10)\n",
    "    ax.plot(binned_avg.bin_edges[:-1]+0.05,\n",
    "             binned_avg.statistic, '--ko', label=\"forager interaction rate\")\n",
    "#     ax.legend()\n",
    "    ax.set_title(\"Interaction rate\")\n",
    "    ax.set_xlim([0, 1])"
   ]
  },
  {
   "cell_type": "markdown",
   "metadata": {
    "pycharm": {
     "name": "#%% md\n"
    }
   },
   "source": [
    "# Sampled colony state"
   ]
  },
  {
   "cell_type": "code",
   "execution_count": null,
   "metadata": {
    "pycharm": {
     "name": "#%%\n"
    }
   },
   "outputs": [],
   "source": [
    "def sampled_col_state(for_int_data, model_data, ax) -> None:\n",
    "    sampled_col = []\n",
    "    cols = []\n",
    "    for fd, md in zip(for_int_data, model_data):\n",
    "        colony_states = [md[x] for x in fd.keys()]\n",
    "        sampled = np.array(list(fd.values()), dtype=object)[:, 1]\n",
    "\n",
    "        cols.extend(colony_states)\n",
    "        sampled_col.extend(sampled)\n",
    "\n",
    "    binned_avg = stats.binned_statistic(np.array(cols),\n",
    "                                        np.array(sampled_col),\n",
    "                                        'mean', bins=10)\n",
    "    binned_sem = stats.binned_statistic(np.array(cols), \n",
    "                                        np.array(sampled_col),\n",
    "                                        'std', bins=10)\n",
    "    \n",
    "    binned_col_avg = stats.binned_statistic(np.array(cols),\n",
    "                                        np.array(cols),\n",
    "                                        'mean', bins=10)\n",
    "    binned_col_sem = stats.binned_statistic(np.array(cols),\n",
    "                                            np.array(cols),\n",
    "                                            'std', bins=10)\n",
    "    \n",
    "    ax.plot(binned_avg.bin_edges[:-1]+0.05,\n",
    "             binned_avg.statistic, 'green',\n",
    "             zorder=4, label=\"Recipients\")\n",
    "    \n",
    "    ax.fill_between(binned_avg.bin_edges[:-1]+0.05, \n",
    "                    binned_avg.statistic-binned_sem.statistic, \n",
    "                    binned_avg.statistic+binned_sem.statistic, \n",
    "                    color='green',\n",
    "                    alpha=0.25)\n",
    "    \n",
    "    ax.plot(binned_col_avg.bin_edges[:-1]+0.05,\n",
    "             binned_col_avg.statistic, 'purple',\n",
    "             zorder=4, label=\"All workers\")\n",
    "\n",
    "    ax.fill_between(binned_col_avg.bin_edges[:-1]+0.05, \n",
    "                    binned_col_avg.statistic-binned_col_sem.statistic, \n",
    "                    binned_col_avg.statistic+binned_col_sem.statistic, \n",
    "                    color='purple',\n",
    "                    alpha=0.25)\n",
    "    ax.set_ylabel(\"Crop state [-]\")\n",
    "\n",
    "    ax.set_xlim([0, 1])\n",
    "#     ax.set_title(\"Forager sampled colony state\")\n",
    "#     ax.legend()"
   ]
  },
  {
   "cell_type": "markdown",
   "metadata": {
    "pycharm": {
     "name": "#%% md\n"
    }
   },
   "source": [
    "# Unloading rate"
   ]
  },
  {
   "cell_type": "code",
   "execution_count": null,
   "metadata": {
    "pycharm": {
     "name": "#%%\n"
    }
   },
   "outputs": [],
   "source": [
    "def unloading_rate(for_exit_data, ax) -> None:\n",
    "    cols = []\n",
    "    unloading_rate = []\n",
    "    for fd in for_exit_data:\n",
    "        steps = np.fromiter(fd.keys(), dtype=int)\n",
    "        durs = np.diff(steps)\n",
    "        colony_state = np.array(list(fd.values()))[1:, 0]\n",
    "        crop_at_exit = np.array(list(fd.values()))[1:, 1]\n",
    "        given_amounts = 1- crop_at_exit\n",
    "\n",
    "        unloading = given_amounts / durs\n",
    "        unloading_rate.extend(unloading)\n",
    "        cols.extend(colony_state)\n",
    "\n",
    "    binned_avg = stats.binned_statistic(np.array(cols),\n",
    "                                        np.array(unloading_rate),\n",
    "                                        'mean', bins=5)\n",
    "    binned_sem = stats.binned_statistic(np.array(cols),\n",
    "                                        np.array(unloading_rate),\n",
    "                                        stats.sem, 5)\n",
    "    ax.plot(binned_avg.bin_edges[:-1]+0.1,\n",
    "             binned_avg.statistic, 'green',\n",
    "             zorder=4)\n",
    "    ax.fill_between(binned_avg.bin_edges[:-1]+0.1, \n",
    "                    binned_avg.statistic-binned_sem.statistic, \n",
    "                    binned_avg.statistic+binned_sem.statistic, \n",
    "                    color='green',\n",
    "                    alpha=0.25)\n",
    "\n",
    "    ax.set_ylabel(r\"Unloading rate [$seconds^{-1}]$\")\n",
    "    ax.ticklabel_format(axis='y', style='sci', scilimits=(-3, -3))\n",
    "    ax.set_xlim([0, 1])\n",
    "#     ax.legend()\n",
    "#     ax.set_title(\"Forager unloading rate\")"
   ]
  },
  {
   "cell_type": "markdown",
   "metadata": {
    "pycharm": {
     "name": "#%% md\n"
    }
   },
   "source": [
    "# Trip freq"
   ]
  },
  {
   "cell_type": "code",
   "execution_count": null,
   "metadata": {
    "pycharm": {
     "name": "#%%\n"
    }
   },
   "outputs": [],
   "source": [
    "def exiting_frequency(forag_exit_data, ax, short_trips) -> None:\n",
    "    cols = []\n",
    "    freqs = []\n",
    "    for fd in forag_exit_data:\n",
    "        steps = np.fromiter(fd.keys(), dtype=int)\n",
    "        durs = np.diff(steps)\n",
    "        freq = 1/durs\n",
    "        colony_state = np.array(list(fd.values()))[1:, 0]\n",
    "\n",
    "        freq = freq[(durs > short_trips)]\n",
    "        colony_state = colony_state[(durs > short_trips)]\n",
    "\n",
    "        freqs.extend(freq)\n",
    "        cols.extend(colony_state)\n",
    "\n",
    "    binned_avg = stats.binned_statistic(np.array(cols),\n",
    "                                        np.array(freqs),\n",
    "                                        'mean', 5)\n",
    "    binned_sem = stats.binned_statistic(np.array(cols),\n",
    "                                        np.array(freqs),\n",
    "                                        stats.sem, 5)\n",
    "    \n",
    "    empty_col_state = 1 - binned_avg.bin_edges[1:]\n",
    "    ax.plot(empty_col_state+0.1,\n",
    "             binned_avg.statistic, 'green',\n",
    "             zorder=4)\n",
    "    ax.fill_between(empty_col_state+0.1,\n",
    "                    binned_avg.statistic-binned_sem.statistic, \n",
    "                    binned_avg.statistic+binned_sem.statistic, \n",
    "                    color='green',\n",
    "                    alpha=0.25)\n",
    "    ax.set_ylabel(r\"Foraging frequency [$steps^{-1}$]\")\n",
    "    ax.set_xlabel(r\"Empty colony state [-]\")\n",
    "    ax.set_xlim([0, 1])\n",
    "    ax.ticklabel_format(axis='y', style='sci', scilimits=(-3, -3))\n",
    "#     ax.legend()\n",
    "#     ax.set_title(\"Forager trip frequency\")"
   ]
  },
  {
   "cell_type": "markdown",
   "metadata": {
    "pycharm": {
     "name": "#%% md\n"
    }
   },
   "source": [
    "# Exiting crop"
   ]
  },
  {
   "cell_type": "code",
   "execution_count": null,
   "metadata": {
    "pycharm": {
     "name": "#%%\n"
    }
   },
   "outputs": [],
   "source": [
    "def exiting_crop(forag_exit_data, ax, short_trips) -> None:\n",
    "    cols = []\n",
    "    exit_crops = []\n",
    "    for fd in forag_exit_data:\n",
    "        steps = np.fromiter(fd.keys(), dtype=int)\n",
    "        durs = np.diff(steps)\n",
    "\n",
    "        colony_state = np.array(list(fd.values()))[1:, 0]\n",
    "        ec = np.array(list(fd.values()))[1:, 1]\n",
    "\n",
    "        ec = ec[(durs > short_trips)]\n",
    "        colony_state = colony_state[(durs > short_trips)]\n",
    "\n",
    "        exit_crops.extend(ec)\n",
    "        cols.extend(colony_state)\n",
    "\n",
    "    binned_avg = stats.binned_statistic(np.array(cols),\n",
    "                                        np.array(exit_crops),\n",
    "                                        'mean', 10)\n",
    "    binned_sem = stats.binned_statistic(np.array(cols),\n",
    "                                        np.array(exit_crops),\n",
    "                                        'std', 10)\n",
    "    \n",
    "    ax.plot(binned_avg.bin_edges[:-1]+0.05,\n",
    "             binned_avg.statistic, 'green',\n",
    "             zorder=4)\n",
    "    ax.fill_between(binned_avg.bin_edges[:-1]+0.05, \n",
    "                    binned_avg.statistic-binned_sem.statistic, \n",
    "                    binned_avg.statistic+binned_sem.statistic, \n",
    "                    color='green',\n",
    "                    alpha=0.25)\n",
    "\n",
    "    ax.scatter(cols, exit_crops, alpha=0.2, c='k', s=1.5)\n",
    "    ax.set_ylim(0, 1)\n",
    "    ax.set_xlim([0, 1])\n",
    "    ax.set_ylabel(\"Forager's crop at exit [-]\")\n",
    "#     ax.set_title(\"Forager exit crop\")"
   ]
  },
  {
   "cell_type": "markdown",
   "metadata": {
    "pycharm": {
     "name": "#%% md\n"
    }
   },
   "source": [
    "# Trip duration"
   ]
  },
  {
   "cell_type": "code",
   "execution_count": null,
   "metadata": {
    "pycharm": {
     "name": "#%%\n"
    }
   },
   "outputs": [],
   "source": [
    "def trip_duration(forag_exit_data, ax) -> None:\n",
    "    cols = []\n",
    "    durations = []\n",
    "    for fd in forag_exit_data:\n",
    "        steps = np.fromiter(fd.keys(), dtype=int)\n",
    "        durs = np.diff(steps)\n",
    "        colony_state = np.array(list(fd.values()))[1:, 0]\n",
    "\n",
    "        durations.extend(durs)\n",
    "        cols.extend(colony_state)\n",
    "\n",
    "    binned_avg = stats.binned_statistic(np.array(cols),\n",
    "                                        np.array(durations),\n",
    "                                        'mean', 10)\n",
    "    ax.plot(binned_avg.bin_edges[:-1]+0.05,\n",
    "             binned_avg.statistic, '--ko',\n",
    "             zorder=4, label=\"foragers trip duration\")\n",
    "#     ax.legend()\n",
    "    ax.set_title(\"Forager trip duration\")\n",
    "    ax.set_xlim([0, 1])"
   ]
  },
  {
   "cell_type": "markdown",
   "metadata": {
    "pycharm": {
     "name": "#%% md\n"
    }
   },
   "source": [
    "# Tip depth"
   ]
  },
  {
   "cell_type": "code",
   "execution_count": null,
   "metadata": {
    "pycharm": {
     "name": "#%%\n"
    }
   },
   "outputs": [],
   "source": [
    "def trip_depth(forag_exit_data, ax) -> None:\n",
    "    cols = []\n",
    "    depths = []\n",
    "    for fd in forag_exit_data:\n",
    "        colony_state = np.array(list(fd.values()))[1:, 0]\n",
    "        depth = np.array(list(fd.values()))[1:, 2]\n",
    "\n",
    "        depths.extend(depth)\n",
    "        cols.extend(colony_state)\n",
    "\n",
    "    binned_avg = stats.binned_statistic(np.array(cols),\n",
    "                                        np.array(depths),\n",
    "                                        'mean', 10)\n",
    "    binned_sem = stats.binned_statistic(np.array(cols),\n",
    "                                        np.array(depths),\n",
    "                                        stats.sem, 10)\n",
    "    ax.plot(binned_avg.bin_edges[:-1]+0.05,\n",
    "             binned_avg.statistic, 'green',\n",
    "             zorder=4)\n",
    "    ax.fill_between(binned_avg.bin_edges[:-1]+0.05, \n",
    "                    binned_avg.statistic-binned_sem.statistic, \n",
    "                    binned_avg.statistic+binned_sem.statistic, \n",
    "                    color='green',\n",
    "                    alpha=0.25)\n",
    "    ax.set_ylabel(r\"Trip depth [ant-lengths]\")\n",
    "    ax.set_xlim([0, 1])\n",
    "#     ax.legend()\n",
    "#     ax.set_title(\"Forager trip depth\")"
   ]
  },
  {
   "cell_type": "code",
   "execution_count": null,
   "metadata": {},
   "outputs": [],
   "source": []
  },
  {
   "cell_type": "code",
   "execution_count": null,
   "metadata": {},
   "outputs": [],
   "source": [
    "import multiprocessing as mp\n",
    "import os"
   ]
  },
  {
   "cell_type": "code",
   "execution_count": null,
   "metadata": {},
   "outputs": [],
   "source": [
    "f = open(\"forager_data.csv\", 'w+') \n",
    "inter = open('interaction_data.csv', 'w+')\n",
    "v = open('visit_data.csv', 'w+') \n",
    "\n",
    "f_writer = csv.writer(f)\n",
    "i_writer = csv.writer(inter)\n",
    "v_writer = csv.writer(v)\n",
    "\n",
    "f_writer.writerow(['step', 'colony state', 'empty colony state', 'repeat', 'crop', 'trip', 'position', 'exiting crop', 'fall thresh'])\n",
    "i_writer.writerow(['step', 'colony state', 'empty colony state', 'repeat', 'forager crop', 'nest ant crop', 'interaction volume', 'position', 'trip'])\n",
    "v_writer.writerow(['step', 'colony state', 'empty colony state', 'repeat', 'exiting crop', 'trip length'])\n",
    "\n",
    "\n",
    "\n",
    "def run_model_func(i):\n",
    "    m = ModelAntArray([0, 11], 89, repeat=i, sample_type= 'all', forager_data = f_writer, interaction_data = i_writer, visit_data = v_writer, \n",
    "    log=True, radius=0.3, minimum_interaction=0, reflection_noise_factor=0.3)\n",
    "    m.inialise(1)\n",
    "    while m.col_state < 0.95:\n",
    "        m.step()\n",
    "    return m"
   ]
  },
  {
   "cell_type": "code",
   "execution_count": null,
   "metadata": {
    "pycharm": {
     "name": "#%%\n"
    }
   },
   "outputs": [],
   "source": [
    "\n",
    "cpus = os.cpu_count() // 2\n",
    "\n",
    "no_forag = 1\n",
    "no_runs = 20\n",
    "output = []\n",
    "logging = True\n",
    "\n",
    "if not logging:\n",
    "    with mp.Pool(processes=cpus) as pool:\n",
    "        for i in range(no_runs):\n",
    "            output.append(pool.apply_async(run_model_func))\n",
    "        pool.close()\n",
    "        pool.join()\n",
    "\n",
    "else:\n",
    "    for i in range(no_runs):\n",
    "        output.append(run_model_func(i))\n",
    "    \n",
    "\n",
    "f.flush()\n",
    "inter.flush()\n",
    "v.flush()\n",
    "\n",
    "f.close()\n",
    "inter.close()\n",
    "v.close()\n",
    "run_model = True"
   ]
  },
  {
   "cell_type": "code",
   "execution_count": null,
   "metadata": {},
   "outputs": [],
   "source": [
    "forager_int_data = []\n",
    "forager_exit_data = []\n",
    "model_data = []\n",
    "\n",
    "for i, async_result in enumerate(output):\n",
    "    m = async_result.get()\n",
    "    for f in m.foragers:\n",
    "        forager_int_data.append(f.interaction_pos_other_crop)\n",
    "        forager_exit_data.append(f.exiting_step_crop)\n",
    "        model_data.append(m.col_states)"
   ]
  },
  {
   "cell_type": "code",
   "execution_count": null,
   "metadata": {},
   "outputs": [],
   "source": [
    "import matplotlib as mpl\n",
    "\n",
    "mpl.rcParams['figure.dpi'] = 500\n",
    "mpl.rcParams['savefig.dpi'] = 500\n",
    "mpl.rcParams['font.size'] = 14\n",
    "mpl.rcParams['legend.fontsize'] = 'medium'"
   ]
  },
  {
   "cell_type": "code",
   "execution_count": null,
   "metadata": {
    "pycharm": {
     "name": "#%%\n"
    }
   },
   "outputs": [],
   "source": [
    "fig, ax = plt.subplots(1,4,figsize=[20,4.5])\n",
    "# ax = flatten(axes)\n",
    "short_trips = 8\n",
    "\n",
    "sampled_col_state(forager_int_data, model_data, ax[0])\n",
    "unloading_rate(forager_exit_data, ax[1])\n",
    "trip_depth(forager_exit_data, ax[2])\n",
    "exiting_crop(forager_exit_data, ax[3], short_trips)\n",
    "fig.tight_layout()\n",
    "plt.savefig(f\"continuous_figure_6_shorttrips{short_trips}_015radius_03reflection_005mininter_{no_forag}forag.svg\", format='svg')"
   ]
  },
  {
   "cell_type": "code",
   "execution_count": null,
   "metadata": {
    "pycharm": {
     "name": "#%%\n"
    }
   },
   "outputs": [],
   "source": [
    "fig, ax = plt.subplots(figsize=(3.5,3.5))\n",
    "exiting_frequency(forager_exit_data, ax, short_trips)\n",
    "plt.savefig(f\"continuous_trip_freq_shorttrips{short_trips}_015radius_03reflection_005mininter_{no_forag}forag.svg\", format='svg')\n"
   ]
  },
  {
   "cell_type": "code",
   "execution_count": null,
   "metadata": {
    "pycharm": {
     "name": "#%%\n"
    }
   },
   "outputs": [],
   "source": [
    "fig, axes = plt.subplots(5, 5, figsize=(22, 22))\n",
    "\n",
    "for n, ax in enumerate(flatten(axes)):\n",
    "    st = n * 2\n",
    "    exiting_frequency(forager_exit_data, ax, st)"
   ]
  },
  {
   "cell_type": "code",
   "execution_count": null,
   "metadata": {},
   "outputs": [],
   "source": []
  }
 ],
 "metadata": {
  "kernelspec": {
   "display_name": "Python 3.10.6 ('ant_stuff_jupyter')",
   "language": "python",
   "name": "python3"
  },
  "language_info": {
   "codemirror_mode": {
    "name": "ipython",
    "version": 3
   },
   "file_extension": ".py",
   "mimetype": "text/x-python",
   "name": "python",
   "nbconvert_exporter": "python",
   "pygments_lexer": "ipython3",
   "version": "3.10.6"
  },
  "vscode": {
   "interpreter": {
    "hash": "17095264da155a1ae0be1fc10dba0f9f8539b7cb16de3ed12072f1014d60703c"
   }
  }
 },
 "nbformat": 4,
 "nbformat_minor": 4
}
